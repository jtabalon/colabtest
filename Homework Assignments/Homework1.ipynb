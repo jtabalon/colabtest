{
 "cells": [
  {
   "cell_type": "markdown",
   "metadata": {},
   "source": [
    "# STAT610 - Applied Linear Regression"
   ]
  },
  {
   "cell_type": "markdown",
   "metadata": {},
   "source": [
    "## Homework 1 (20 points total)"
   ]
  },
  {
   "cell_type": "markdown",
   "metadata": {},
   "source": [
    "> <u>INSTRUCTIONS:</u> \n",
    "> \n",
    "> Complete the problems listed below.\n",
    "> \n",
    "> <ul>\n",
    "  <li>The assignment may be completed in this notebook or in a separate document</li>\n",
    "  <li>Homework must be submitted individually</li>\n",
    "  <li>To receive full credit, include relevant R code/output and answer all questions</li>\n",
    "  <li>Upload your assignment to Canvas under Assignments > Homework 1.</li>\n",
    "  <li>Use the following file naming convention:  Lastname_Firstname_HW1 (but put your own name instead).</li>\n",
    "  <li>The assignment must be submitted in .html or .pdf </li>\n",
    "</ul>\n",
    "\n"
   ]
  },
  {
   "cell_type": "markdown",
   "metadata": {},
   "source": [
    "###  (12 points) Problem 1: \n",
    "\n",
    "Refer to the CDI.txt dataset included with the posted assignment. A detailed description of the CDI dataset is located in Appendix C.2 of the textbook. The number of active physicians in a CDI (Y) is expected to be related to total population, number of hospital beds, and total personal income.\n",
    "\n",
    "<ol type=\"a\">\n",
    "    <li> Regress the number of active physicians separately on each of the three predictor variables mentioned above. Regressions must be performed BY \"HAND\"/CODE (i.e. without the use of $\\texttt{lm()}$). <br>\n",
    "        - (2 points) Write the corresponding fitted regression equations for each variable ($e.g. \\hat{Y}=...$) <br>\n",
    "        - (2 points) What increase in the number of active physicians is associated with a 1000 unit increase in total personal income? What does this suggest?</li> <br>\n",
    "    <li> (2 points) Plot the three estimated regression functions and data on separate graphs. Use the R function $\\texttt{abline(a=?, b=?)}$ where $a$ is your intercept estimate and $b$ is your slope estimate. <br>\n",
    "        - (2 points) Does a linear regression appear to provide a good fit for each of the three predictor variables? Justify your claims. </li><br>\n",
    "    <li> Calculate MSE [by code, without $\\texttt{lm()}$] for each of the three predictor variables.  <br>\n",
    "        - (2 points) Which predictor variable leads to the smallest MSE? <br>\n",
    "        - (2 points) What does it mean to have a small MSE?  </li>\n",
    "</ol>\n",
    "\n",
    "\n"
   ]
  },
  {
   "cell_type": "markdown",
   "metadata": {},
   "source": [
    "###  (6 points) Problem 2: \n",
    "\n",
    "Refer to the CDI.txt dataset included with the posted assignment. A detailed description of the CDI dataset is located in Appendix C.2 of the textbook.\n",
    "\n",
    "<ol type=\"a\">\n",
    "    <li> For each geographic region, regress per capita income in a CDI (Y) against the percentage of individuals in a county having at least a bachelors degree. You may now use the built-in $\\texttt{lm()}$ R function. <br> \n",
    "        - (2 points) Write the corresponding fitted regression equations for each region ($e.g. \\hat{Y}=...$) \n",
    "    </li> <br>\n",
    "    <li> (2 points) Are the estimated regression functions similar for the four regions? Explain your answer. </li><br>\n",
    "    <li> Calculate MSE using the R function $\\texttt{lm()}$ for each region.  <br>\n",
    "        - (2 points) Is MSE approximately the same across the four regions? Explain your answer.\n",
    "</ol>\n",
    "\n",
    "\n"
   ]
  },
  {
   "cell_type": "markdown",
   "metadata": {},
   "source": [
    "###  (2 points) Problem 3:\n",
    "\n",
    "Refer to the CDI.txt dataset included with the posted assignment. A detailed description of the CDI dataset is located in Appendix C.2 of the textbook.\n",
    "\n",
    "<ol type=\"a\">\n",
    "    <li> The code block below calculates log likelihoods associated with different slope values.  <br>\n",
    "        - (2 points) Explain what you observe in this plot. How would you use this plot to find the slope estimate? <br>\n",
    "        </li> <br>\n",
    "</ol>\n",
    "\n",
    "\n"
   ]
  },
  {
   "cell_type": "code",
   "execution_count": 1,
   "metadata": {},
   "outputs": [
    {
     "data": {
      "image/png": "[encoded data removed]",
      "text/plain": [
       "plot without title"
      ]
     },
     "metadata": {},
     "output_type": "display_data"
    }
   ],
   "source": [
    "# Calculate several likelihoods from several slopes\n",
    "cdi <- read.table(\"CDI.txt\", header=TRUE)\n",
    "\n",
    "fit <- lm(number_active_physicians~income_personal, data=cdi)\n",
    "beta0 <- coef(fit)[1]\n",
    "beta1 <- coef(fit)[2]\n",
    "\n",
    "\n",
    "calc_residuals <- function(x, y, beta0, beta1) {\n",
    "    fitted <- beta0 + beta1*x\n",
    "    resid <- y - fitted\n",
    "    return(resid)\n",
    "}\n",
    "\n",
    "\n",
    "calc_s <- function(resid) {\n",
    "    s <- sqrt(sum(resid^2) / (length(resid) - 2))\n",
    "    return(s)\n",
    "}\n",
    "\n",
    "\n",
    "calc_loglik <- function(x, y, beta0, beta1){\n",
    "    resid <- calc_residuals(x, y, beta0, beta1)\n",
    "    s <- calc_s(resid)\n",
    "    constant <- 1 / (s * sqrt(2*pi))\n",
    "    exp_term <- exp(resid^2 / (-2*s*s))\n",
    "    likelihood <- sum(log(constant * exp_term))\n",
    "    return(likelihood)\n",
    "}\n",
    "\n",
    "\n",
    "\n",
    "\n",
    "loglikFUN <- function(x) {\n",
    "    calc_loglik(cdi$income_personal, \n",
    "                cdi$number_active_physicians, \n",
    "                beta0,x)\n",
    "}\n",
    "\n",
    "beta1s  <- seq(0.1, 0.2, 0.001)\n",
    "logLiks <- tapply(beta1s, beta1s, loglikFUN)\n",
    "\n",
    "plot(beta1s, logLiks, type=\"l\", \n",
    "     xlab=\"candidate slopes\", \n",
    "     ylab=\"log likelihoods\")"
   ]
  },
  {
   "cell_type": "code",
   "execution_count": null,
   "metadata": {},
   "outputs": [],
   "source": []
  }
 ],
 "metadata": {
  "kernelspec": {
   "display_name": "R",
   "language": "R",
   "name": "ir"
  },
  "language_info": {
   "codemirror_mode": "r",
   "file_extension": ".r",
   "mimetype": "text/x-r-source",
   "name": "R",
   "pygments_lexer": "r",
   "version": "3.6.1"
  }
 },
 "nbformat": 4,
 "nbformat_minor": 4
}
