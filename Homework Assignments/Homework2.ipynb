{
 "cells": [
  {
   "cell_type": "markdown",
   "metadata": {},
   "source": [
    "# STAT610 - Applied Linear Regression"
   ]
  },
  {
   "cell_type": "markdown",
   "metadata": {},
   "source": [
    "## Homework 2 (20 points total)"
   ]
  },
  {
   "cell_type": "markdown",
   "metadata": {},
   "source": [
    "> <u>INSTRUCTIONS:</u> \n",
    "> \n",
    "> Complete the problems listed below.\n",
    "> \n",
    "> <ul>\n",
    "  <li>The assignment may be completed in this notebook or in a separate document</li>\n",
    "  <li>Homework must be submitted individually</li>\n",
    "  <li>To receive full credit, include relevant R code/output and answer all questions</li>\n",
    "  <li>Upload your assignment to Canvas under Assignments > Homework #.</li>\n",
    "  <li>Use the following file naming convention:  Lastname_Firstname_HW# (but put your own name instead).</li>\n",
    "  <li>The assignment must be submitted in .html or .pdf </li>\n",
    "</ul>\n",
    "\n"
   ]
  },
  {
   "cell_type": "markdown",
   "metadata": {},
   "source": [
    "###  (9 points) Problem 1: \n",
    "\n",
    "Refer to the CDI.txt dataset included with the posted assignment. A detailed description of the CDI dataset is located in Appendix C.2 of the textbook. The **number of active physicians in a CDI (Y)** is expected to be related to **total personal income**. Hint: Verify your calculations using built-in functions (e.g., summary(lm()))\n",
    "\n",
    "Regress the number of active physicians (Y) on total personal income (X) [you may use the $\\texttt{lm()}$ R function to calculate the slope].\n",
    "\n",
    "<ol type=\"a\">\n",
    "    <li> (1 points) What are the null and alternative hypotheses for testing if the population slope $\\beta_1$ is significantly different from 0? </li><br>\n",
    "    <li> (2 points) By HAND/CODE, calculate the t-statistic $t^*$ for the hypotheses stated above and determine whether the slope is significantly different from 0 by comparing $t^*$ to $t(1-\\alpha/2)$ at significance level $\\alpha = 0.05$.  </li><br>\n",
    "    <li> (2 points) What is your conclusion in the context of the application?  </li><br>\n",
    "    <li> (2 points) By HAND/CODE, calculate the p-value for the corresponding test. How would you interpret this p-value?  </li><br>\n",
    "    <li> (2 points) By HAND/CODE, calculate a 95% confidence interval for the slope. How would you interpret this interval?  </li><br>\n",
    "</ol>\n",
    "\n",
    "\n"
   ]
  },
  {
   "cell_type": "markdown",
   "metadata": {},
   "source": [
    "###  (3 points) Problem 2: \n",
    "\n",
    "Refer to the CDI.txt dataset included with the posted assignment. A detailed description of the CDI dataset is located in Appendix C.2 of the textbook. The **number of active physicians in a CDI (Y)** is expected to be related to **total personal income**. Hint: Verify your calculations using built-in functions (e.g., summary(lm()))\n",
    "\n",
    "Regress the number of active physicians (Y) on total personal income (X) [you may use the $\\texttt{lm()}$ R function to calculate the slope].\n",
    "\n",
    "<ol type=\"a\">\n",
    "    <li> (2 points) By HAND/CODE, use ANOVA to calculate the F-statistic for the hypotheses stated in problem 1.1 and determine whether the slope is significantly different from 0 using $\\alpha = 0.05$. </li><br>\n",
    "    <li> (1 points) What is the relationship between the t-statistic calculated in Problem 1 and the F-statistic calculated in Problem 2.1? Verify. </li><br>\n",
    "</ol>\n",
    "\n",
    "\n"
   ]
  },
  {
   "cell_type": "markdown",
   "metadata": {},
   "source": [
    "###  (4 points) Problem 3: \n",
    "\n",
    "Refer to the CDI.txt dataset included with the posted assignment. A detailed description of the CDI dataset is located in Appendix C.2 of the textbook. The **number of active physicians in a CDI (Y)** is expected to be related to **total personal income**. Hint: Verify your calculations using built-in functions (e.g., summary(lm()))\n",
    "\n",
    "Regress the number of active physicians (Y) on total personal income (X).\n",
    "<ol type=\"a\">\n",
    "    <li> (2 points) By HAND/CODE, calculate a 99% confidence interval on $E\\{Y_h\\}$ given $X_h = 20,000$. What is the interpretation? </li><br>\n",
    "    <li> (2 points) By HAND/CODE, calculate a 99% prediction interval at $X_h = 20,000$. What is the interpretation? </li><br>\n",
    "</ol>\n",
    "\n",
    "\n"
   ]
  },
  {
   "cell_type": "markdown",
   "metadata": {},
   "source": [
    "###  (4 points) Problem 4: \n",
    "\n",
    "Refer to the CDI.txt dataset included with the posted assignment. A detailed description of the CDI dataset is located in Appendix C.2 of the textbook. Fit 3 regressions: Regress **number of active physicians in a CDI (Y)** separately on **total population, number of hospital beds, and total personal income**.\n",
    "\n",
    "<ol type=\"a\">\n",
    "    <li> (2 points) By HAND/CODE, calculate $R^2$ for each regression. You may use lm() to calculate residuals, fitted values, etc. </li><br>        \n",
    "    <li> (2 points) Which regression has the largest $R^2$? Interpret the meaning of $R^2$ in the context of the application. </li><br>     \n",
    "   \n",
    "</ol>\n",
    "\n",
    "\n"
   ]
  }
 ],
 "metadata": {
  "kernelspec": {
   "display_name": "R",
   "language": "R",
   "name": "ir"
  },
  "language_info": {
   "codemirror_mode": "r",
   "file_extension": ".r",
   "mimetype": "text/x-r-source",
   "name": "R",
   "pygments_lexer": "r",
   "version": "3.6.1"
  }
 },
 "nbformat": 4,
 "nbformat_minor": 4
}
