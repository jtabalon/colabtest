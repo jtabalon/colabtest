{
 "cells": [
  {
   "cell_type": "markdown",
   "metadata": {},
   "source": [
    "# Chapter 8 Lab/Assignment (20 points)\n",
    "## Polynomials, Qualitative variables, and interactions"
   ]
  },
  {
   "cell_type": "markdown",
   "metadata": {},
   "source": [
    "> <u>INSTRUCTIONS:</u> \n",
    "> \n",
    "> Complete the problems listed below.\n",
    "> \n",
    "> <ul>\n",
    "  <li>The assignment may be completed in this notebook or in a separate document</li>\n",
    "  <li>Homework must be submitted individually</li>\n",
    "  <li>To receive full credit, include relevant R code/output and answer all questions</li>\n",
    "  <li>Upload your assignment to Canvas under Assignments > Homework #.</li>\n",
    "  <li>Use the following file naming convention:  Lastname_Firstname_HW# (but put your own name instead).</li>\n",
    "  <li>The assignment must be submitted in .html or .pdf </li>\n",
    "</ul>\n",
    "\n"
   ]
  },
  {
   "cell_type": "markdown",
   "metadata": {},
   "source": [
    "### (10 points) Write and submit a first draft of your Exploratory Data Analysis section (part 4) of your class project.\n",
    "\n",
    "- Please refer to the original project description on Canvas for details"
   ]
  },
  {
   "cell_type": "markdown",
   "metadata": {},
   "source": [
    "### -------------------------------------------------------------------------------------------------------------------------------------------------------------------"
   ]
  },
  {
   "cell_type": "markdown",
   "metadata": {},
   "source": [
    "### Data Analysis Objective I"
   ]
  },
  {
   "cell_type": "markdown",
   "metadata": {},
   "source": [
    "The goal of this lab assignment is to walk you through a multiple linear regression analysis using concepts from in Chapter 8."
   ]
  },
  {
   "cell_type": "markdown",
   "metadata": {},
   "source": [
    "We are interested in the relationship between the number of active physicians (Y) and income per capita ($X_{1}$) across the four regions ($X_{2}$) in the CDI dataset. Please refer to the CDI dataset for a thorough description of variables."
   ]
  },
  {
   "cell_type": "markdown",
   "metadata": {},
   "source": [
    "### Necessary packages"
   ]
  },
  {
   "cell_type": "code",
   "execution_count": null,
   "metadata": {},
   "outputs": [],
   "source": [
    "#install.packages(\"GGally\")\n",
    "#install.packages(\"ggplot2\")\n",
    "\n",
    "library(ggplot2)\n",
    "library(GGally)\n",
    "library(car)\n",
    "library(multcomp)\n",
    "#library(stats)"
   ]
  },
  {
   "cell_type": "markdown",
   "metadata": {},
   "source": [
    "### Load the CDI dataset"
   ]
  },
  {
   "cell_type": "code",
   "execution_count": null,
   "metadata": {},
   "outputs": [],
   "source": [
    "options(repr.plot.width=5, repr.plot.height=5)\n",
    "\n",
    "# read in data\n",
    "cdi <- read.table('CDI.txt', header=TRUE)"
   ]
  },
  {
   "cell_type": "code",
   "execution_count": null,
   "metadata": {},
   "outputs": [],
   "source": [
    "# view first few lines of data\n",
    "head(cdi)"
   ]
  },
  {
   "cell_type": "markdown",
   "metadata": {},
   "source": [
    "### Recode region\n",
    "\n",
    "R currently considers $cdi\\$region$ as a continuous variable. We must convert $cdi\\$region$ to a factor (categorical/qualitative) variable"
   ]
  },
  {
   "cell_type": "code",
   "execution_count": null,
   "metadata": {},
   "outputs": [],
   "source": [
    "# region is still considered a quantitative variable ('numeric' or 'integer')\n",
    "class(cdi$region)"
   ]
  },
  {
   "cell_type": "code",
   "execution_count": null,
   "metadata": {},
   "outputs": [],
   "source": [
    "# convert to a factor\n",
    "cdi$region <- factor(cdi$region)\n",
    "class(cdi$region)"
   ]
  },
  {
   "cell_type": "code",
   "execution_count": null,
   "metadata": {},
   "outputs": [],
   "source": [
    "# old labels\n",
    "levels(cdi$region)"
   ]
  },
  {
   "cell_type": "code",
   "execution_count": null,
   "metadata": {},
   "outputs": [],
   "source": [
    "# new labels\n",
    "levels(cdi$region) <- c(\"NE\", \"NC\", \"S\", \"W\")\n",
    "levels(cdi$region)"
   ]
  },
  {
   "cell_type": "markdown",
   "metadata": {},
   "source": [
    "### Visualize relationships using ggpairs (or pairs)"
   ]
  },
  {
   "cell_type": "markdown",
   "metadata": {},
   "source": [
    "<font color='red'>**(2 points) Question:**</font> \n",
    "- What functional relationships do you observe in the plots below for each region? Use the pairs plots and lowess smooths to answer the question."
   ]
  },
  {
   "cell_type": "code",
   "execution_count": null,
   "metadata": {},
   "outputs": [],
   "source": [
    "# without log transformation\n",
    "options(repr.plot.width=8, repr.plot.height=5)\n",
    "plot_frame <- data.frame(\"income_per_capita\" = cdi$income_percapita, \n",
    "                         \"number_active_physicians\" = (cdi$number_active_physicians), \n",
    "                         \"region\" = cdi$region)\n",
    "ggpairs(plot_frame, aes(color=region, alpha=100), binwidth=30)"
   ]
  },
  {
   "cell_type": "code",
   "execution_count": null,
   "metadata": {},
   "outputs": [],
   "source": [
    "# with log transformation\n",
    "options(repr.plot.width=8, repr.plot.height=5)\n",
    "plot_frame <- data.frame(\"income_per_capita\" = cdi$income_percapita, \n",
    "                         \"log_number_active_physicians\" = log(cdi$number_active_physicians), \n",
    "                         \"region\" = cdi$region)\n",
    "ggpairs(plot_frame, aes(color=region, alpha=100), binwidth=30)"
   ]
  },
  {
   "cell_type": "markdown",
   "metadata": {},
   "source": [
    "### Use scatterplots and lowess smooths to identify the functional relationships"
   ]
  },
  {
   "cell_type": "code",
   "execution_count": null,
   "metadata": {},
   "outputs": [],
   "source": [
    "options(repr.plot.width=8, repr.plot.height=5)\n",
    "ggplot(cdi, aes(x=income_percapita, y=log(number_active_physicians), color=region, alpha = 0.1)) +\n",
    "  geom_point() + \n",
    "  geom_smooth(method=loess, aes(fill=region), alpha = 0.2)"
   ]
  },
  {
   "cell_type": "markdown",
   "metadata": {},
   "source": [
    "Removing the points from the scatter plot can make it easier to visualize the trends, however, it is best to investigate both visualizations."
   ]
  },
  {
   "cell_type": "code",
   "execution_count": null,
   "metadata": {},
   "outputs": [],
   "source": [
    "options(repr.plot.width=8, repr.plot.height=5)\n",
    "ggplot(cdi, aes(x=income_percapita, y=log(number_active_physicians), color=region, alpha = 0.1)) +\n",
    "  #geom_point() + \n",
    "  geom_smooth(method=loess, aes(fill=region), alpha = 0.1)"
   ]
  },
  {
   "cell_type": "markdown",
   "metadata": {},
   "source": [
    "### Fit regression models based on visual observations\n",
    "\n",
    "- It appears the relationships are quadratic or even cubic; We can start with a cubic relationship\n",
    "- We can allow statistical testing in our regressions to determine if these are significant trends"
   ]
  },
  {
   "cell_type": "markdown",
   "metadata": {},
   "source": [
    "#### Fitting a cubic regression "
   ]
  },
  {
   "cell_type": "code",
   "execution_count": null,
   "metadata": {},
   "outputs": [],
   "source": [
    "# use I() to fit a polynomial\n",
    "fit <- lm(log(number_active_physicians)~\n",
    "          cdi$income_percapita + \n",
    "          I(cdi$income_percapita^2) + \n",
    "          I(cdi$income_percapita^3), data=cdi)\n",
    "summary(fit)\n",
    "\n",
    "options(repr.plot.width=10, repr.plot.height=3.5)\n",
    "par(mfrow=c(1,3))\n",
    "plot(fit, which=c(1,2,3))"
   ]
  },
  {
   "cell_type": "markdown",
   "metadata": {},
   "source": [
    "<font color='red'>**(2 points) Question:**</font> \n",
    "- What do the F-test results in the summary suggest about this regression?\n",
    "- Are any of the polynomial coefficients significant?\n",
    "- What does this imply?"
   ]
  },
  {
   "cell_type": "markdown",
   "metadata": {},
   "source": [
    "#### Orthogonal polynomials\n",
    "We can use orthogonal polynomials using the $\\texttt{poly()}$ function in R to avoid multicollinearity"
   ]
  },
  {
   "cell_type": "code",
   "execution_count": null,
   "metadata": {},
   "outputs": [],
   "source": [
    "fit <- lm(log(number_active_physicians)~\n",
    "          poly(income_percapita, 3)        # orthogonal polynomial\n",
    "          , data=cdi)\n",
    "summary(fit)"
   ]
  },
  {
   "cell_type": "markdown",
   "metadata": {},
   "source": [
    "Great! Multicollinearity fixed!"
   ]
  },
  {
   "cell_type": "code",
   "execution_count": null,
   "metadata": {},
   "outputs": [],
   "source": [
    "fit <- lm(log(number_active_physicians)~\n",
    "          poly(income_percapita, 3) +        # orthogonal polynomial\n",
    "          region +                           # 4 regions\n",
    "          poly(income_percapita, 3):region   # interaction\n",
    "          , data=cdi)\n",
    "summary(fit)\n",
    "\n",
    "options(repr.plot.width=10, repr.plot.height=3.5)\n",
    "par(mfrow=c(1,3))\n",
    "plot(fit, which=c(1,2,3))"
   ]
  },
  {
   "cell_type": "markdown",
   "metadata": {},
   "source": [
    "#### Run F-test to determine if a cubic is necessary"
   ]
  },
  {
   "cell_type": "code",
   "execution_count": null,
   "metadata": {},
   "outputs": [],
   "source": [
    "fit <- lm(log(number_active_physicians)~\n",
    "          poly(income_percapita, 3) +        # orthogonal polynomial\n",
    "          region +                           # 4 regions\n",
    "          poly(income_percapita, 3):region   # interaction\n",
    "          , data=cdi)\n",
    "\n",
    "fit_reduced <- lm(log(number_active_physicians)~\n",
    "          poly(income_percapita, 2) +        # orthogonal polynomial\n",
    "          region +                           # 4 regions\n",
    "          poly(income_percapita, 2):region   # interaction\n",
    "          , data=cdi)\n",
    "\n",
    "\n",
    "anova(fit_reduced, fit)"
   ]
  },
  {
   "cell_type": "markdown",
   "metadata": {},
   "source": [
    "<font color='red'>**(2 points) Question:**</font> \n",
    "- What is the conclusion of the F-test? What does the result suggest?"
   ]
  },
  {
   "cell_type": "markdown",
   "metadata": {},
   "source": [
    "#### Rerun regression using orthogonal quadratic functions"
   ]
  },
  {
   "cell_type": "code",
   "execution_count": null,
   "metadata": {},
   "outputs": [],
   "source": [
    "fit <- lm(log(number_active_physicians)~\n",
    "          poly(income_percapita, 2) +        # orthogonal polynomial\n",
    "          region +                           # 4 regions\n",
    "          poly(income_percapita, 2):region   # interaction\n",
    "          , data=cdi)\n",
    "summary(fit)\n",
    "\n",
    "options(repr.plot.width=10, repr.plot.height=3.5)\n",
    "par(mfrow=c(1,3))\n",
    "plot(fit, which=c(1,2,3))"
   ]
  },
  {
   "cell_type": "markdown",
   "metadata": {},
   "source": [
    "- It does not appear as if the polynomial representation of income_percapita interacts with region\n",
    "- We can test this, again using the F-test"
   ]
  },
  {
   "cell_type": "markdown",
   "metadata": {},
   "source": [
    "#### Run F-test to determine if there is an interaction between region and quadratic income_percapita"
   ]
  },
  {
   "cell_type": "code",
   "execution_count": null,
   "metadata": {},
   "outputs": [],
   "source": [
    "fit <- lm(log(number_active_physicians)~\n",
    "          poly(income_percapita, 2) +        # orthogonal polynomial\n",
    "          region +                           # 4 regions\n",
    "          poly(income_percapita, 2):region   # interaction\n",
    "          , data=cdi)\n",
    "\n",
    "fit_reduced <- lm(log(number_active_physicians)~\n",
    "          poly(income_percapita, 2) +        # orthogonal polynomial\n",
    "          region                             # 4 regions\n",
    "          , data=cdi)\n",
    "\n",
    "anova(fit_reduced, fit)"
   ]
  },
  {
   "cell_type": "markdown",
   "metadata": {},
   "source": [
    "<font color='red'>**(2 points) Question:**</font> \n",
    "- What is the conclusion of the F-test? What does the result suggest?"
   ]
  },
  {
   "cell_type": "markdown",
   "metadata": {},
   "source": [
    "#### Rerun regression without the interaction between region and income_percapita\n",
    "\n",
    "- We are now narrowing in on our final regression model!"
   ]
  },
  {
   "cell_type": "code",
   "execution_count": null,
   "metadata": {},
   "outputs": [],
   "source": [
    "fit <- lm(log(number_active_physicians)~\n",
    "          poly(income_percapita, 2) +        # orthogonal polynomial\n",
    "          region                             # 4 regions\n",
    "          , data=cdi)\n",
    "summary(fit)\n",
    "\n",
    "options(repr.plot.width=10, repr.plot.height=3.5)\n",
    "par(mfrow=c(1,3))\n",
    "plot(fit, which=c(1,2,3))"
   ]
  },
  {
   "cell_type": "markdown",
   "metadata": {},
   "source": [
    "### Conduct formal inference on parameters"
   ]
  },
  {
   "cell_type": "code",
   "execution_count": null,
   "metadata": {},
   "outputs": [],
   "source": [
    "summary(glht(fit, linfct = mcp(region = \"Tukey\")))"
   ]
  },
  {
   "cell_type": "code",
   "execution_count": null,
   "metadata": {},
   "outputs": [],
   "source": [
    "# contrasts by hand (more flexibility, but can be tedious to create)\n",
    "contrast <- matrix(c(0, 0, 0, 1, 0, 0,\n",
    "                     0, 0, 0, 0, 1, 0,\n",
    "                     0, 0, 0, 0, 0, 1,\n",
    "                     0, 0, 0, 1, -1, 0,\n",
    "                     0, 0, 0, 1, 0, -1,\n",
    "                     0, 0, 0, 0, 1, -1), nrow=6, byrow=TRUE)\n",
    "summary(glht(fit, linfct = contrast))"
   ]
  },
  {
   "cell_type": "markdown",
   "metadata": {},
   "source": [
    "### Create plots to analyze inferences"
   ]
  },
  {
   "cell_type": "code",
   "execution_count": null,
   "metadata": {},
   "outputs": [],
   "source": [
    "# final model\n",
    "fit <- lm(log(number_active_physicians)~\n",
    "          poly(income_percapita, 2) +        # orthogonal polynomial\n",
    "          region                             # 4 regions\n",
    "          , data=cdi)"
   ]
  },
  {
   "cell_type": "code",
   "execution_count": null,
   "metadata": {},
   "outputs": [],
   "source": [
    "# calculate predictions for regions\n",
    "income_vector <- seq(min(cdi$income_percapita), max(cdi$income_percapita), 1000)\n",
    "\n",
    "# northeast region\n",
    "newdata <- data.frame(income_percapita = income_vector,\n",
    "                      region = \"NE\")\n",
    "pred_regionNE <- predict.lm(fit, newdata = newdata, interval=\"confidence\")\n",
    "\n",
    "\n",
    "# northcentral\n",
    "newdata <- data.frame(income_percapita = income_vector,\n",
    "                      region = \"NC\")\n",
    "pred_regionNC <- predict.lm(fit, newdata = newdata, interval=\"confidence\")\n",
    "\n",
    "\n",
    "# southern\n",
    "newdata <- data.frame(income_percapita = income_vector,\n",
    "                      region = \"S\")\n",
    "pred_regionS <- predict.lm(fit, newdata = newdata, interval=\"confidence\")\n",
    "\n",
    "\n",
    "# western\n",
    "newdata <- data.frame(income_percapita = income_vector,\n",
    "                      region = \"W\")\n",
    "pred_regionW <- predict.lm(fit, newdata = newdata, interval=\"confidence\")\n",
    "\n",
    "\n",
    "# combine into a single dataframe\n",
    "preds_nocorrection <- rbind(data.frame(pred_regionNE, income_percapita = income_vector, region=\"NE\"),\n",
    "                            data.frame(pred_regionNC, income_percapita = income_vector, region=\"NC\"),\n",
    "                            data.frame(pred_regionS, income_percapita = income_vector, region=\"S\"),\n",
    "                            data.frame(pred_regionW, income_percapita = income_vector, region=\"W\"))"
   ]
  },
  {
   "cell_type": "markdown",
   "metadata": {},
   "source": [
    "- Visualize the functional relationships"
   ]
  },
  {
   "cell_type": "code",
   "execution_count": null,
   "metadata": {},
   "outputs": [],
   "source": [
    "# plot\n",
    "options(repr.plot.width=8, repr.plot.height=5)\n",
    "ggplot(cdi, aes(x=income_percapita, y=log(number_active_physicians), color=region)) +\n",
    "  geom_point() + \n",
    "  geom_line(data = preds_nocorrection, aes(x=income_percapita, y=fit, color=region)) "
   ]
  },
  {
   "cell_type": "markdown",
   "metadata": {},
   "source": [
    "- Visualize without log scale"
   ]
  },
  {
   "cell_type": "code",
   "execution_count": null,
   "metadata": {},
   "outputs": [],
   "source": [
    "# plot\n",
    "options(repr.plot.width=8, repr.plot.height=5)\n",
    "ggplot(cdi, aes(x=income_percapita, y=(number_active_physicians), color=region)) +\n",
    "  geom_point() + \n",
    "  geom_line(data = preds_nocorrection, aes(x=income_percapita, y=exp(fit), color=region)) "
   ]
  },
  {
   "cell_type": "code",
   "execution_count": null,
   "metadata": {},
   "outputs": [],
   "source": [
    "# plot\n",
    "options(repr.plot.width=8, repr.plot.height=5)\n",
    "ggplot(cdi, aes(x=income_percapita, y=(number_active_physicians), color=region)) +\n",
    "  #geom_point() + \n",
    "  geom_line(data = preds_nocorrection, aes(x=income_percapita, y=exp(fit), color=region))  \n",
    "  #geom_line(data = preds_nocorrection, aes(x=income_percapita, y=exp(lwr), color=region), lty=2) + \n",
    "  #geom_line(data = preds_nocorrection, aes(x=income_percapita, y=exp(upr), color=region), lty=2) "
   ]
  },
  {
   "cell_type": "markdown",
   "metadata": {},
   "source": [
    "- Connect inferences with what you observe visually"
   ]
  },
  {
   "cell_type": "code",
   "execution_count": null,
   "metadata": {},
   "outputs": [],
   "source": [
    "summary(fit)\n",
    "\n",
    "summary(glht(fit, linfct = mcp(region = \"Tukey\")))"
   ]
  },
  {
   "cell_type": "markdown",
   "metadata": {},
   "source": [
    "<font color='red'>**(2 points) Question:**</font> \n",
    "- What are your final conclusions? Write your conclusions in a paragraph."
   ]
  },
  {
   "cell_type": "markdown",
   "metadata": {},
   "source": [
    "### Data Analysis Objective II - If time in class"
   ]
  },
  {
   "cell_type": "markdown",
   "metadata": {},
   "source": [
    "We are interested in the relationship between the number of active physicians (Y), income per capita ($X_{1}$), and total population ($X_{2}$) across the four regions ($X_{3}$) in the CDI dataset.\n",
    "\n",
    "Perform a similar analysis as shown above."
   ]
  },
  {
   "cell_type": "code",
   "execution_count": null,
   "metadata": {},
   "outputs": [],
   "source": []
  }
 ],
 "metadata": {
  "kernelspec": {
   "display_name": "R",
   "language": "R",
   "name": "ir"
  },
  "language_info": {
   "codemirror_mode": "r",
   "file_extension": ".r",
   "mimetype": "text/x-r-source",
   "name": "R",
   "pygments_lexer": "r",
   "version": "3.6.1"
  }
 },
 "nbformat": 4,
 "nbformat_minor": 4
}
