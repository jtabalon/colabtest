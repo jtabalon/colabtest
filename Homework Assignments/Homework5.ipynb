{
 "cells": [
  {
   "cell_type": "markdown",
   "metadata": {},
   "source": [
    "# STAT610 - Applied Linear Regression"
   ]
  },
  {
   "cell_type": "markdown",
   "metadata": {},
   "source": [
    "## Homework 5 (20 points total)"
   ]
  },
  {
   "cell_type": "markdown",
   "metadata": {},
   "source": [
    "> <u>INSTRUCTIONS:</u> \n",
    "> \n",
    "> Complete the problems listed below.\n",
    "> \n",
    "> <ul>\n",
    "  <li>The assignment may be completed in this notebook or in a separate document</li>\n",
    "  <li>Homework must be submitted individually</li>\n",
    "  <li>To receive full credit, include relevant R code/output and answer all questions</li>\n",
    "  <li>Upload your assignment to Canvas under Assignments > Homework #.</li>\n",
    "  <li>Use the following file naming convention:  Lastname_Firstname_HW# (but put your own name instead).</li>\n",
    "  <li>The assignment must be submitted in .html or .pdf </li>\n",
    "</ul>\n",
    "\n"
   ]
  },
  {
   "cell_type": "markdown",
   "metadata": {},
   "source": [
    "###  (5 points) Problem 1: \n",
    "\n",
    "The course project deadline is fast upon us! The task below is designed to get you started.\n",
    "\n",
    "<ol>\n",
    "    <li> (4 points) In a single paragraph, describe the desired data analysis topic for your course project. Please include </li>\n",
    "    <ul>\n",
    "         <li> A background sentence that motivates your analysis </li>\n",
    "         <li> A description of the questions you would like to answer </li>\n",
    "         <li> A description of the dataset you will be using (i.e. response variables, predictor variables, etc.) </li>\n",
    "         <li>(optional) How this relates to diversity, equity, and inclusion, if relevant. </li><br>\n",
    "    </ul>\n",
    "    <li> (1 point) Load the dataset you will be using for the project and display the first 6 lines </li>\n",
    "    <ul>\n",
    "         <li> You must cite the source of the dataset (e.g., Kaggle url, NHANES survey etc.) </li>\n",
    "    </ul>\n",
    "        \n",
    "</ol>"
   ]
  },
  {
   "cell_type": "markdown",
   "metadata": {},
   "source": [
    "###  (15 points) Problem 2: Multiple Linear Regression by Hand"
   ]
  },
  {
   "cell_type": "markdown",
   "metadata": {},
   "source": [
    "### Load the CDI dataset"
   ]
  },
  {
   "cell_type": "code",
   "execution_count": null,
   "metadata": {},
   "outputs": [],
   "source": [
    "# read in covid table\n",
    "cdi <- ...\n",
    "head(cdi)"
   ]
  },
  {
   "cell_type": "markdown",
   "metadata": {},
   "source": [
    "### We are interested in the relationship between number of active physicians (Y) and the following three predictors: personal income $X_1$, total population $X_2$, percent poverty $X_3$. For now, let's assume no transformations are necessary.\n",
    "\n",
    "#### 1. (2 points) Using proper notation, write the multiple linear regression model described above in both scalar notation (no matrices) AND matrix notation. </li>\n"
   ]
  },
  {
   "cell_type": "markdown",
   "metadata": {},
   "source": []
  },
  {
   "cell_type": "markdown",
   "metadata": {},
   "source": [
    "#### 2. (2 points) Fit the aforementioned regression using the built-in lm() function in R. Show the summary of the regression."
   ]
  },
  {
   "cell_type": "code",
   "execution_count": null,
   "metadata": {},
   "outputs": [],
   "source": [
    "fit <- ...\n",
    "summary(fit)"
   ]
  },
  {
   "cell_type": "markdown",
   "metadata": {},
   "source": [
    "#### 3. (2 points) Using R code, create the <u>model matrix</u> for the intended regression AND print the first 6 rows of this matrix. Hint: This is the matrix containing the intercept and three predictor variables as columns."
   ]
  },
  {
   "cell_type": "code",
   "execution_count": null,
   "metadata": {},
   "outputs": [],
   "source": [
    "# model matrix\n",
    "X <- ...\n",
    "head(X)"
   ]
  },
  {
   "cell_type": "markdown",
   "metadata": {},
   "source": [
    "#### 4. (2 points) Simultaneously calculate regression coefficients using matrix operations. Verify that these estimates are the same as the estimates using the lm() R function."
   ]
  },
  {
   "cell_type": "code",
   "execution_count": null,
   "metadata": {},
   "outputs": [],
   "source": [
    "# beta vector\n",
    "beta_hat <- ...\n",
    "beta_hat\n",
    "\n",
    "coef(fit)"
   ]
  },
  {
   "cell_type": "markdown",
   "metadata": {},
   "source": [
    "#### 5. (2 points) Calculate the fitted values $\\hat{Y}$ using matrix operations"
   ]
  },
  {
   "cell_type": "code",
   "execution_count": null,
   "metadata": {},
   "outputs": [],
   "source": [
    "# variance-covariance matrix of betas\n",
    "yhat <- ..."
   ]
  },
  {
   "cell_type": "markdown",
   "metadata": {},
   "source": [
    "#### 6. (2 points) Calculate the residual variance of the regression $s^2$. Verify that this value is the same as reported by the lm() R function."
   ]
  },
  {
   "cell_type": "code",
   "execution_count": null,
   "metadata": {},
   "outputs": [],
   "source": [
    "s2 <- ...\n",
    "\n",
    "print(s2)\n",
    "summary(fit)$sigma^2"
   ]
  },
  {
   "cell_type": "markdown",
   "metadata": {},
   "source": [
    "#### 7. (2 points) Calculate the variance-covariance matrix of the beta estimates. Verify that the resulting matrix agrees with the variance-covariance matrix using the lm() R function. Hint: vcov(lm())"
   ]
  },
  {
   "cell_type": "code",
   "execution_count": null,
   "metadata": {},
   "outputs": [],
   "source": [
    "# variance-covariance matrix of beta estimates\n",
    "beta_hat_var <- ...\n",
    "\n",
    "beta_hat_var\n",
    "vcov(fit)"
   ]
  },
  {
   "cell_type": "markdown",
   "metadata": {},
   "source": [
    "#### 8. (1 point) Describe how you would use the $\\hat{\\beta}$ vector and its variance-covariance matrix to conduct statistical inference on the parameters (i.e. perform t-tests on the parameters)."
   ]
  },
  {
   "cell_type": "markdown",
   "metadata": {},
   "source": []
  }
 ],
 "metadata": {
  "kernelspec": {
   "display_name": "R",
   "language": "R",
   "name": "ir"
  },
  "language_info": {
   "codemirror_mode": "r",
   "file_extension": ".r",
   "mimetype": "text/x-r-source",
   "name": "R",
   "pygments_lexer": "r",
   "version": "3.6.1"
  }
 },
 "nbformat": 4,
 "nbformat_minor": 4
}
