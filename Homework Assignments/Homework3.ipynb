{
 "cells": [
  {
   "cell_type": "markdown",
   "metadata": {},
   "source": [
    "# Chapter 3 Lab: Diagnostics and Remedial Measures (25 points total)"
   ]
  },
  {
   "cell_type": "markdown",
   "metadata": {},
   "source": [
    "The goal of this lab assignment is to walk you through a complete simple linear regression analysis involving \n",
    "\n",
    "<ul>\n",
    "    <li> specification of a functional relationship,  </li>\n",
    "    <li> regression diagnostics,  </li>\n",
    "    <li> and statistical inference.  </li>\n",
    "</ul>\n",
    "\n",
    "The lab will be submitted as the next homework assignment (see Canvas for details)."
   ]
  },
  {
   "cell_type": "markdown",
   "metadata": {},
   "source": [
    "### (1 point)\n",
    "### 1. Load the CDI dataset"
   ]
  },
  {
   "cell_type": "code",
   "execution_count": null,
   "metadata": {},
   "outputs": [],
   "source": [
    "options(repr.plot.width=5, repr.plot.height=5)\n",
    "\n",
    "# read in data\n",
    "\n",
    "# view first few lines of data"
   ]
  },
  {
   "cell_type": "markdown",
   "metadata": {},
   "source": [
    "### (1 point)\n",
    "### 2. Visualize data\n",
    "\n",
    "As before, we are interested in the relationship between personal income (X) and number of active physicians (Y).\n",
    "\n",
    "- Create a scatterplot visualizing this relationship.\n",
    "- Visualize the distribution of predictor and response variables using some of the visualizations described in class (e.g., boxplot(), hist(), qqnorm(), etc.)"
   ]
  },
  {
   "cell_type": "markdown",
   "metadata": {},
   "source": [
    "### (1 point)\n",
    "### 3. Visual Observations\n",
    "\n",
    "- What type of functional relationship do you visually observe from the scatterplot?\n",
    "- What is your observation of the distribution of the predictor and response variables?"
   ]
  },
  {
   "cell_type": "markdown",
   "metadata": {},
   "source": [
    "### (1 point)\n",
    "### 4. Regression\n",
    "\n",
    "- Regress number of active physicians (Y) on personal income (X) using the lm() function\n",
    "- Assume a linear functional relationship\n",
    "- Store the regression as 'fit'"
   ]
  },
  {
   "cell_type": "markdown",
   "metadata": {},
   "source": [
    "### (2 points)\n",
    "### 5. Diagnostics\n",
    "\n",
    "- Create diagnostics plots using the plot() function (e.g. $\\texttt{plot(fit)}$)\n",
    "- Evaluate the first three plots (residuals vs fitted, Normal Q-Q, and Scale-Location)\n",
    "- Which of the assumptions is satistified? Which are violated? Why?\n",
    "- Are we able to conduct statistical inference on the parameters?\n",
    "- Please be thorough with your analysis!"
   ]
  },
  {
   "cell_type": "code",
   "execution_count": null,
   "metadata": {},
   "outputs": [],
   "source": [
    "#example code to view first three plots\n",
    "options(repr.plot.width=10, repr.plot.height=3.5)\n",
    "par(mfrow=c(1,3))\n",
    "plot(fit, which=c(1,2,3))"
   ]
  },
  {
   "cell_type": "markdown",
   "metadata": {},
   "source": [
    "### (4 points)\n",
    "### 5. Test for presence of heteroskedasticity\n",
    "\n",
    "- Use the Brown-Forsythe test for heteroskedasticity [$\\texttt{leveneTest()}$]\n",
    "  - Must install package [$\\texttt{install.packages(\"car\")}$] \n",
    "  - Note that Brown-Forsythe is the leveneTest but using medians. We prefer this for robustness\n",
    "  - Also note the test in R is slightly different from what we went over in class, but hypotheses are still the same\n",
    "  - What is your conclusion? Do we satisfy the heteroskedasticity assumption?\n",
    "  \n",
    "  \n",
    "- Are we allowed to use the Breuch-Pagan test for heteroskedasticity? Why or why not?\n"
   ]
  },
  {
   "cell_type": "code",
   "execution_count": null,
   "metadata": {},
   "outputs": [],
   "source": [
    "#install.packages(\"car\")"
   ]
  },
  {
   "cell_type": "code",
   "execution_count": null,
   "metadata": {},
   "outputs": [],
   "source": [
    "library(car)\n",
    "\n",
    "# you can play around with this cutoff (used to define two groups)\n",
    "cutoff <- median(cdi$income_personal)\n",
    "\n",
    "# We are interested in heteroskedasticity in the residuals\n",
    "resid <- fit$residuals\n",
    "# Divides predictor variable into two groups\n",
    "var_group <- factor(cdi$income_personal < cutoff)\n",
    "\n",
    "# create a dataframe to perform test\n",
    "bf_dat <- data.frame(resid, var_group)\n",
    "leveneTest(resid ~ var_group, data = bf_dat, center = median)"
   ]
  },
  {
   "cell_type": "markdown",
   "metadata": {},
   "source": [
    "### (4 points)\n",
    "### 6. Transformations by Hand (without Box-Cox Transformation)\n",
    "\n",
    "- Experiment with transformations on the predictor and response variables\n",
    "- Re-visualize distributions of transformed variables\n",
    "- Run regressions\n",
    "- Re-perform diagnostics to evaluate model assumptions\n",
    "- Have fun with the data!"
   ]
  },
  {
   "cell_type": "markdown",
   "metadata": {},
   "source": [
    "- What do you observe? Where are you having trouble? Which assumptions are you still violating?"
   ]
  },
  {
   "cell_type": "markdown",
   "metadata": {},
   "source": [
    "### (2 points)\n",
    "### 7. Breusch Pagan Test for Heteroskedasticity\n",
    "\n",
    "- Use the Breusch-Pagan test to test for heteroskedasticity [$\\texttt{bptest()}$]\n",
    "  - Must install package [$\\texttt{install.packages(\"lmtest\")}$] \n",
    "  - Perform the breusch-pagan test with some of the transformations you performed above\n",
    "  - Does your final proposed model satisfy the heteroskedasticity assumption?"
   ]
  },
  {
   "cell_type": "code",
   "execution_count": null,
   "metadata": {},
   "outputs": [],
   "source": [
    "#install.packages(\"lmtest\")\n",
    "\n",
    "# load library\n",
    "library(lmtest)"
   ]
  },
  {
   "cell_type": "code",
   "execution_count": null,
   "metadata": {},
   "outputs": [],
   "source": [
    "# run BP test\n",
    "bptest(fit)"
   ]
  },
  {
   "cell_type": "markdown",
   "metadata": {},
   "source": [
    "### (2 points)\n",
    "### 8. Lowess Smooth\n",
    "\n",
    "- Plot your transformed data using a scatterplot\n",
    "- Overlay a lowess smooth onto the scatterplot\n",
    "- What functional relationship do you observe?"
   ]
  },
  {
   "cell_type": "code",
   "execution_count": null,
   "metadata": {},
   "outputs": [],
   "source": [
    "trans_phys <- # your transformed response\n",
    "trans_inc <-  # your transformed predictor\n",
    "\n",
    "# plot data\n",
    "options(repr.plot.width=5, repr.plot.height=5)\n",
    "plot(trans_inc, trans_phys,\n",
    "    xlab = \"Personal Income (transformed)\", ylab = \"Number of Active Physicians (transformed)\")\n",
    "\n",
    "# overlay regression line\n",
    "abline(lm(trans_phys~trans_inc))\n",
    "\n",
    "# overlay lowess smooth\n",
    "lines(lowess(trans_inc, trans_phys, f = 0.2), col=\"red\", lwd=2)"
   ]
  },
  {
   "cell_type": "markdown",
   "metadata": {},
   "source": [
    "### (3 points)\n",
    "### 9. Box-Cox Transformations\n",
    "\n",
    "- Use Box-Cox to assist you in finding the proper transformation\n",
    "  - Requires \"car\" package"
   ]
  },
  {
   "cell_type": "code",
   "execution_count": null,
   "metadata": {},
   "outputs": [],
   "source": [
    "# fit original regression\n",
    "fit <- lm(number_active_physicians~income_personal, data=cdi)\n",
    "\n",
    "# use Box-Cox\n",
    "bc = boxCox(fit)\n",
    "\n",
    "# select lambda that maximizes log-likelihood\n",
    "pow <- bc$x[which.max(bc$y)]"
   ]
  },
  {
   "cell_type": "markdown",
   "metadata": {},
   "source": [
    "### (3 points)\n",
    "### 10. Complete Analysis\n",
    "\n",
    "- Run your final model\n",
    "- Show diagnostic plots and determine if assumptions are satisfied\n",
    "- Perform a statistical test on the slope parameter\n",
    "- (Attempt to) interpret your findings"
   ]
  }
 ],
 "metadata": {
  "kernelspec": {
   "display_name": "R",
   "language": "R",
   "name": "ir"
  },
  "language_info": {
   "codemirror_mode": "r",
   "file_extension": ".r",
   "mimetype": "text/x-r-source",
   "name": "R",
   "pygments_lexer": "r",
   "version": "3.6.1"
  }
 },
 "nbformat": 4,
 "nbformat_minor": 4
}
