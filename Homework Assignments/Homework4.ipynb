{
 "cells": [
  {
   "cell_type": "markdown",
   "metadata": {},
   "source": [
    "# STAT610 - Applied Linear Regression"
   ]
  },
  {
   "cell_type": "markdown",
   "metadata": {},
   "source": [
    "## Homework 4 (20 points total)"
   ]
  },
  {
   "cell_type": "markdown",
   "metadata": {},
   "source": [
    "> <u>INSTRUCTIONS:</u> \n",
    "> \n",
    "> Complete the problems listed below.\n",
    "> \n",
    "> <ul>\n",
    "  <li>The assignment may be completed in this notebook or in a separate document</li>\n",
    "  <li>Homework must be submitted individually</li>\n",
    "  <li>To receive full credit, include relevant R code/output and answer all questions</li>\n",
    "  <li>Upload your assignment to Canvas under Assignments > Homework #.</li>\n",
    "  <li>Use the following file naming convention:  Lastname_Firstname_HW# (but put your own name instead).</li>\n",
    "  <li>The assignment must be submitted in .html or .pdf </li>\n",
    "</ul>\n",
    "\n"
   ]
  },
  {
   "cell_type": "markdown",
   "metadata": {},
   "source": [
    "###  (5 points) Problem 1: \n",
    "\n",
    "For each question you answered incorrectly on the midterm examination\n",
    "\n",
    "<ol>\n",
    "    <li> Write the question </li>\n",
    "    <li> Indicate your <b><u>incorrect</u></b> answer </li>\n",
    "    <li> Write the correct answer and explain </li>\n",
    "</ol>"
   ]
  },
  {
   "cell_type": "markdown",
   "metadata": {},
   "source": [
    "###  (5 points) Problem 2: Regression without an intercept"
   ]
  },
  {
   "cell_type": "markdown",
   "metadata": {},
   "source": [
    "#### 1. Load the covid dataset"
   ]
  },
  {
   "cell_type": "code",
   "execution_count": null,
   "metadata": {},
   "outputs": [],
   "source": [
    "# read in covid table\n"
   ]
  },
  {
   "cell_type": "markdown",
   "metadata": {},
   "source": [
    "#### (2 points) \n",
    "#### 2. Regression number of hours (Y) on number of tests (X) with and without the intercept (include -1 as a predictor)"
   ]
  },
  {
   "cell_type": "code",
   "execution_count": null,
   "metadata": {},
   "outputs": [],
   "source": [
    "fit_int   <- \n",
    "fit_noint <- "
   ]
  },
  {
   "cell_type": "markdown",
   "metadata": {},
   "source": [
    "#### (3 points) \n",
    "#### 3. Perform diagnostics on the residuals of each regression\n",
    "\n",
    "- Are there any violations of the error assumptions? Explain.\n",
    "- What is causing the violations, if any?"
   ]
  },
  {
   "cell_type": "code",
   "execution_count": null,
   "metadata": {},
   "outputs": [],
   "source": [
    "#example code to view first three plots\n",
    "options(repr.plot.width=10, repr.plot.height=3.5)\n",
    "par(mfrow=c(1,3))\n",
    "\n",
    "plot(fit_noint, which=c(1,2,3))\n",
    "plot(fit_int, which=c(1,2,3))"
   ]
  },
  {
   "cell_type": "markdown",
   "metadata": {},
   "source": [
    "###  (10 points) Problem 3: Simultaneous Confidence Intervals"
   ]
  },
  {
   "cell_type": "markdown",
   "metadata": {},
   "source": [
    "Refer to the CDI data set in Appendix C.2. Consider the regression relation of number of active physicians (Y) and total population (X).\n",
    "\n",
    "<b><u>Note:</u></b> Ignore violations in error assumptions for this exercise....I know...I know\n",
    "\n",
    "<ol>\n",
    "    <li> (2 points) Obtain Bonferroni joint confidence intervals for $\\beta_0$ and $\\beta_1$ using a 95% family confidence coefficient (accounting for family-wise error rate)  </li>\n",
    "    <li> (2 points) An investigator has suggested that $\\beta_0$ should be less than -180 and $\\beta_1$ should be 0.0028. Do the joint confidence intervals in part (a) support this view? Discuss. </li>\n",
    "    <li> (3 points) It is desired to estimate the expected number of active physicians for counties with total population of X=500, 1000, 5000 thousands with family confidence coefficient 0.90. Which procedure, the Working-Hotelling or the Bonferroni, is more efficient here? </li>\n",
    "    <li> (3 points) Obtain the family of interval estimates using the more efficient procedure. Interpret your confidence intervals. </li>\n",
    "</ol>\n"
   ]
  },
  {
   "cell_type": "code",
   "execution_count": null,
   "metadata": {},
   "outputs": [],
   "source": []
  }
 ],
 "metadata": {
  "kernelspec": {
   "display_name": "R",
   "language": "R",
   "name": "ir"
  },
  "language_info": {
   "codemirror_mode": "r",
   "file_extension": ".r",
   "mimetype": "text/x-r-source",
   "name": "R",
   "pygments_lexer": "r",
   "version": "3.6.1"
  }
 },
 "nbformat": 4,
 "nbformat_minor": 4
}
