{
 "cells": [
  {
   "cell_type": "markdown",
   "metadata": {},
   "source": [
    "# STAT610 - Applied Linear Regression"
   ]
  },
  {
   "cell_type": "markdown",
   "metadata": {},
   "source": [
    "## Homework 6 (22 points total)"
   ]
  },
  {
   "cell_type": "markdown",
   "metadata": {},
   "source": [
    "> <u>INSTRUCTIONS:</u> \n",
    "> \n",
    "> Complete the problems listed below.\n",
    "> \n",
    "> <ul>\n",
    "  <li>The assignment may be completed in this notebook or in a separate document</li>\n",
    "  <li>Homework must be submitted individually</li>\n",
    "  <li>To receive full credit, include relevant R code/output and answer all questions</li>\n",
    "  <li>Upload your assignment to Canvas under Assignments > Homework #.</li>\n",
    "  <li>Use the following file naming convention:  Lastname_Firstname_HW# (but put your own name instead).</li>\n",
    "  <li>The assignment must be submitted in .html or .pdf </li>\n",
    "</ul>\n",
    "\n"
   ]
  },
  {
   "cell_type": "code",
   "execution_count": null,
   "metadata": {},
   "outputs": [],
   "source": [
    "# If you are unable to use GGally, you may plot pairs plots using pairs() function in R\n",
    "library(GGally)\n",
    "options(repr.plot.width=8, repr.plot.height=5)"
   ]
  },
  {
   "cell_type": "markdown",
   "metadata": {},
   "source": [
    "###  (6 points) Problem 1: Multicollinearity Part 1"
   ]
  },
  {
   "cell_type": "code",
   "execution_count": null,
   "metadata": {},
   "outputs": [],
   "source": [
    "# This code simulates multicollinearity in a dataset\n",
    "set.seed(12)\n",
    "x1 <- 1:100                           # predictor variable X1\n",
    "x2 <- x1 + rnorm(length(x1), sd=1)    # predictor variable X2\n",
    "y <- x1 + rnorm(length(x1), sd=10)    # predictor variable X3\n",
    "\n",
    "# dataframe for simulated data\n",
    "dat <- data.frame(y, x1, x2)"
   ]
  },
  {
   "cell_type": "markdown",
   "metadata": {},
   "source": [
    "#### (2 points) 1.1 Plot a pairs plot to visualize relationships between the response and predictor variables\n",
    "- What relationships do you observe between x1, x2, and y?"
   ]
  },
  {
   "cell_type": "code",
   "execution_count": null,
   "metadata": {},
   "outputs": [],
   "source": [
    "ggpairs()\n",
    "\n",
    "# or\n",
    "\n",
    "pairs()"
   ]
  },
  {
   "cell_type": "markdown",
   "metadata": {},
   "source": [
    "#### (2 points) 1.2 Fit simple linear regressions for x1 and x2 and show their summaries. \n",
    "- What are their coefficients?\n",
    "- What are their standard errors?\n",
    "- Are they significant at $\\alpha = 0.05$?\n",
    "- Is the model significant based on the F-test (in the summary)?\n",
    "- What is the residual standard error?"
   ]
  },
  {
   "cell_type": "code",
   "execution_count": null,
   "metadata": {},
   "outputs": [],
   "source": [
    "fit_x1 <- lm()\n",
    "fit_x2 <- lm()\n",
    "\n",
    "summary(fit_x1)\n",
    "summary(fit_x2)"
   ]
  },
  {
   "cell_type": "markdown",
   "metadata": {},
   "source": [
    "#### (2 points) 1.3 Fit a multiple linear regression including both x1 and x2\n",
    "- Are the MLR coefficients different from their respective SLR coefficients?\n",
    "- Did their significance change using t-tests?\n",
    "- Did the model significance change using the F-test on the entire model?\n",
    "- Did the residual standard error change?"
   ]
  },
  {
   "cell_type": "code",
   "execution_count": null,
   "metadata": {},
   "outputs": [],
   "source": [
    "fit_both <- lm()\n",
    "\n",
    "summary(fit_x1)\n",
    "summary(fit_x2)\n",
    "summary(fit_both)"
   ]
  },
  {
   "cell_type": "markdown",
   "metadata": {},
   "source": [
    "### Important Takeaways\n",
    "\n",
    "- You should always check the significance of the model using the F-test first. If the t-tests diasagree with the F-test conclusion, you may be dealing with multicollinearity\n",
    "- Dramatic fluctuations in the estimates (especially reversing signs) and standard errors is evidence of multicollinearity"
   ]
  },
  {
   "cell_type": "markdown",
   "metadata": {},
   "source": [
    "###  (10 points) Problem 2: Multicollinearity Part 2"
   ]
  },
  {
   "cell_type": "markdown",
   "metadata": {},
   "source": [
    "#### 2.1 Load the dataset \"bodyfat.txt\""
   ]
  },
  {
   "cell_type": "code",
   "execution_count": null,
   "metadata": {},
   "outputs": [],
   "source": [
    "fat <- read.table(\"bodyfat.txt\", header=TRUE)\n",
    "head(fat)"
   ]
  },
  {
   "cell_type": "markdown",
   "metadata": {},
   "source": [
    "#### 2.2 (2 points) Plot a pairs plot using all four variables\n",
    "- What relationships do you observe?"
   ]
  },
  {
   "cell_type": "code",
   "execution_count": null,
   "metadata": {},
   "outputs": [],
   "source": [
    "# pairs plot\n",
    "ggpairs()"
   ]
  },
  {
   "cell_type": "markdown",
   "metadata": {},
   "source": [
    "#### 2.3 (2 points) Univariate Regressions\n",
    "- Regress body fat percentage (Y) on tricep skinfold thickness (x1) and show the regression summary\n",
    "- Regress body fat percentage (Y) on thigh circumference (x2) and show the regression summary\n",
    "- Are there coefficients similar or different? Why?"
   ]
  },
  {
   "cell_type": "code",
   "execution_count": null,
   "metadata": {},
   "outputs": [],
   "source": [
    "fit_tricep <- lm()\n",
    "fit_thigh <- lm()\n",
    "\n",
    "summary(fit_tricep)\n",
    "summary(fit_thigh)"
   ]
  },
  {
   "cell_type": "markdown",
   "metadata": {},
   "source": [
    "#### 2.4 (2 points) Regress body fat percentage (Y) on both tricep skinfold thickness (x1) AND thigh circumference (x2) and show the regression summary\n",
    "- Did the regression coefficients and/or standard errors change? Why?"
   ]
  },
  {
   "cell_type": "code",
   "execution_count": null,
   "metadata": {},
   "outputs": [],
   "source": [
    "fit_tricep_thigh <- lm()\n",
    "\n",
    "summary(fit_tricep_thigh)"
   ]
  },
  {
   "cell_type": "markdown",
   "metadata": {},
   "source": [
    "#### (2 points) 2.5 Regress body fat percentage (Y) on three predictors: tricep skinfold thickness (x1), thigh circumference (x2), AND midarm circumference (x3) and show the regression summary\n",
    "- Compare the regression coefficients for tricep skinfold thickness and thigh circumference as you did in 2.3 and 2.4.\n",
    "- Are the changes more or less dramatic?"
   ]
  },
  {
   "cell_type": "code",
   "execution_count": null,
   "metadata": {},
   "outputs": [],
   "source": [
    "fit_tricep_thigh_midarm <- lm()\n",
    "\n",
    "summary(fit_tricep_thigh_midarm)"
   ]
  },
  {
   "cell_type": "markdown",
   "metadata": {},
   "source": [
    "#### 2.6 (2 points) Regress midarm circumference (Y, yes a new response!) on tricep skinfold thickness (x1) and thigh circumference (x2)\n",
    "- What is the R-squared of this regression?\n",
    "- What does this suggest about the relationship between tricep skinfold thickness, thigh circumference, and midarm circumference?"
   ]
  },
  {
   "cell_type": "code",
   "execution_count": null,
   "metadata": {},
   "outputs": [],
   "source": [
    "fit_x3 <- lm()\n",
    "\n",
    "summary(fit_x3)"
   ]
  },
  {
   "cell_type": "markdown",
   "metadata": {},
   "source": [
    "### Important Conclusions\n",
    "\n",
    "- Multicollinearity does not only mean strong pairwise correlations between predictor variables\n",
    "- If a predictor can be written as a linear combination of other predictors, multicollinearity will also be a problem"
   ]
  },
  {
   "cell_type": "markdown",
   "metadata": {},
   "source": [
    "###  (6 points) Problem 3: Standardized Regression"
   ]
  },
  {
   "cell_type": "markdown",
   "metadata": {},
   "source": [
    "#### 3.1 Load the body fat data and regress body fat percentage (Y) on tricep skinfold thickness and midarm circumference"
   ]
  },
  {
   "cell_type": "code",
   "execution_count": null,
   "metadata": {},
   "outputs": [],
   "source": [
    "fit <- lm()\n",
    "summary(fit)"
   ]
  },
  {
   "cell_type": "markdown",
   "metadata": {},
   "source": [
    "#### (2 points) 3.2 Fit the same regression as 3.1, except using standardized regression (standardize both predictors and response)\n",
    "- Note you can use the scale function to standardize your variables (e.g., scale(fat$body_fat))\n",
    "- Don't forget to subtract -1 to exlude intercept from the regression\n",
    "\n",
    "\n"
   ]
  },
  {
   "cell_type": "code",
   "execution_count": null,
   "metadata": {},
   "outputs": [],
   "source": [
    "fit_std <- lm()\n",
    "summary(fit_std)"
   ]
  },
  {
   "cell_type": "markdown",
   "metadata": {},
   "source": [
    "#### (2 points) 3.3 Interpret the midarm measurement coefficient from the standardized model.\n",
    "- Interpret in terms of standard deviations.\n",
    "- Does the result make sense in the context of the application?"
   ]
  },
  {
   "cell_type": "markdown",
   "metadata": {},
   "source": [
    "#### (2 points) 3.4 By hand/code, use the standardized parameter estimates from 3.2 to calculate the unstandardized estimates from 3.1 (should also include the intercept calculation)"
   ]
  },
  {
   "cell_type": "code",
   "execution_count": null,
   "metadata": {},
   "outputs": [],
   "source": [
    "# original beta1hat\n",
    "beta1_orig <- \n",
    "\n",
    "# original beta2hat\n",
    "beta2_orig <- \n",
    "\n",
    "# original intercept\n",
    "beta0_orig <- "
   ]
  }
 ],
 "metadata": {
  "kernelspec": {
   "display_name": "R",
   "language": "R",
   "name": "ir"
  },
  "language_info": {
   "codemirror_mode": "r",
   "file_extension": ".r",
   "mimetype": "text/x-r-source",
   "name": "R",
   "pygments_lexer": "r",
   "version": "3.6.1"
  }
 },
 "nbformat": 4,
 "nbformat_minor": 4
}
