{
 "cells": [
  {
   "cell_type": "markdown",
   "metadata": {},
   "source": [
    "# STAT610 - Applied Linear Regression"
   ]
  },
  {
   "cell_type": "markdown",
   "metadata": {},
   "source": [
    "## Homework 0 (20 points total)"
   ]
  },
  {
   "cell_type": "markdown",
   "metadata": {},
   "source": [
    "> <u>INSTRUCTIONS:</u> \n",
    "> \n",
    "> This assignment is to ensure proper installation of R and Jupyter Notebooks on your system. Complete the tasks and answer the corresponding questions below. [Hint: The R tutorial videos posted on the Canvas course site may help]\n",
    "> \n",
    "> <ul>\n",
    "  <li>The assignment must be completed within this notebook</li>\n",
    "  <li>Homework must be submitted individually</li>\n",
    "  <li>To receive full credit, include relevant R code/output and answer all questions. Insert code or markdown cells where appropriate.</li>\n",
    "  <li>Upload your assignment to Canvas under Assignments > Homework 0.</li>\n",
    "  <li>Use the following file naming convention:  Lastname_Firstname_HW0 (but put your own name instead).</li>\n",
    "  <li>The assignment must be submitted in .html format (File > Download as HTML)</li>\n",
    "</ul>\n",
    "\n"
   ]
  },
  {
   "cell_type": "markdown",
   "metadata": {},
   "source": [
    "###  Task 1: Loading Data (4 points)\n",
    "\n",
    "- (2 points) Load the \"Homework0_data.txt\" file into R as a dataframe\n",
    "- (2 points) Assign the dataframe to a variable with your last name. For example, if your last name is Smith, then assign the dataframe to smith ($\\texttt{smith <- ...}$)"
   ]
  },
  {
   "cell_type": "markdown",
   "metadata": {},
   "source": [
    "### Task 2: Preview Data (4 points)\n",
    "\n",
    "- (4 points) View the first six rows of your assigned dataframe (e.g. $\\texttt{head(smith)}$ or $\\texttt{smith[1:6,]}$)"
   ]
  },
  {
   "cell_type": "markdown",
   "metadata": {},
   "source": [
    "### Task 3: Dataframe Dimensions (4 points)\n",
    "\n",
    "- (1 point) How many rows does the dataframe have? (use/show code to find this value)\n",
    "- (1 point) Include a markdown cell below your code and answer the question in a complete sentence"
   ]
  },
  {
   "cell_type": "markdown",
   "metadata": {},
   "source": [
    "- (1 point) How many columns does your dataframe have? (use/show code to find this value)\n",
    "- (1 point) Include a markdown cell below your code and answer the question in a complete sentence"
   ]
  },
  {
   "cell_type": "markdown",
   "metadata": {},
   "source": [
    "### Task 4: Plotting Data (4 points)\n",
    "\n",
    "- (2 points) Create a scatterplot with **age** on the x-axis and **anxiety_level** on the y-axis"
   ]
  },
  {
   "cell_type": "markdown",
   "metadata": {},
   "source": [
    "- (2 points) Visually, does there appear to be a relationship between age and anxiety level within the patient population of this dataset? Explain why/why not in a markdown cell below."
   ]
  },
  {
   "cell_type": "markdown",
   "metadata": {},
   "source": [
    "### Task 5: Simple Linear Regression (4 points)\n",
    "\n",
    "- (1 point) Fit a simple linear regression model with **age** as the predictor variable (x) and **anxiety_level** as the reponse (y)\n",
    "- (1 point) Replot the scatterplot from above and include the regression line (hint: use $\\texttt{abline()}$)"
   ]
  },
  {
   "cell_type": "markdown",
   "metadata": {},
   "source": [
    "- (2 points) Does the regression line fit the data well? Why/Why not? Explain in a markdown cell below"
   ]
  },
  {
   "cell_type": "markdown",
   "metadata": {},
   "source": [
    "### Extra credit (1 point) \n",
    "\n",
    "Using Latex syntax, write the quadratic formula as shown here https://en.wikipedia.org/wiki/Quadratic_formula in a markdown cell below"
   ]
  }
 ],
 "metadata": {
  "kernelspec": {
   "display_name": "R",
   "language": "R",
   "name": "ir"
  },
  "language_info": {
   "codemirror_mode": "r",
   "file_extension": ".r",
   "mimetype": "text/x-r-source",
   "name": "R",
   "pygments_lexer": "r",
   "version": "3.6.1"
  }
 },
 "nbformat": 4,
 "nbformat_minor": 4
}
